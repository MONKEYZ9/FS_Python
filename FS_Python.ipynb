{
  "nbformat": 4,
  "nbformat_minor": 0,
  "metadata": {
    "colab": {
      "name": "FS_Python",
      "private_outputs": true,
      "provenance": [],
      "collapsed_sections": [],
      "authorship_tag": "ABX9TyPpsfBZ1j7mqnRoEkZZDyLh",
      "include_colab_link": true
    },
    "kernelspec": {
      "name": "python3",
      "display_name": "Python 3"
    },
    "language_info": {
      "name": "python"
    }
  },
  "cells": [
    {
      "cell_type": "markdown",
      "metadata": {
        "id": "view-in-github",
        "colab_type": "text"
      },
      "source": [
        "<a href=\"https://colab.research.google.com/github/MONKEYZ9/FS_Python/blob/main/FS_Python.ipynb\" target=\"_parent\"><img src=\"https://colab.research.google.com/assets/colab-badge.svg\" alt=\"Open In Colab\"/></a>"
      ]
    },
    {
      "cell_type": "code",
      "metadata": {
        "id": "B7mX9PTHxUtK"
      },
      "source": [
        "import random\n",
        "\n",
        "lunch = random.choice([\"된장찌개\",\"치킨\", \"떡볶이\"])\n",
        "lunch = \"냉장고\"\n",
        "\n",
        "dinner = random.choice([\"짬뽕\", \"자장면\", \"돈까스\"])\n",
        "\n",
        "print(lunch)"
      ],
      "execution_count": null,
      "outputs": []
    },
    {
      "cell_type": "markdown",
      "metadata": {
        "id": "Y90XQNc3BbSd"
      },
      "source": [
        "변수에 새로운 것을 담게 되면 이렇게 된다는 거야"
      ]
    },
    {
      "cell_type": "code",
      "metadata": {
        "id": "ZYPDd19o0njq"
      },
      "source": [
        "info = {\"고향\" : \"수원\",\n",
        "        \"취미\" : \"수영\",\n",
        "        \"장래희망\" : \"프로그래머\"\n",
        "        }\n",
        "print(info.get(\"취미\"))\n",
        "\n",
        "info = {\"사는곳\" : \"서울\",\n",
        "        \"특기\" : \"게임\"\n",
        "        }\n",
        "print(info.get(\"특기\"))\n",
        "print(info.get(\"사는곳\"))\n"
      ],
      "execution_count": null,
      "outputs": []
    },
    {
      "cell_type": "code",
      "metadata": {
        "id": "HG3P9z3n0DUB"
      },
      "source": [
        ""
      ],
      "execution_count": null,
      "outputs": []
    }
  ]
}