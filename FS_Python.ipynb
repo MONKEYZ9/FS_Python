{
  "nbformat": 4,
  "nbformat_minor": 0,
  "metadata": {
    "colab": {
      "name": "FS_Python",
      "private_outputs": true,
      "provenance": [],
      "collapsed_sections": [],
      "authorship_tag": "ABX9TyMQLzanIN3izNTGBWcGYoeR",
      "include_colab_link": true
    },
    "kernelspec": {
      "name": "python3",
      "display_name": "Python 3"
    },
    "language_info": {
      "name": "python"
    }
  },
  "cells": [
    {
      "cell_type": "markdown",
      "metadata": {
        "id": "view-in-github",
        "colab_type": "text"
      },
      "source": [
        "<a href=\"https://colab.research.google.com/github/MONKEYZ9/FS_Python/blob/main/FS_Python.ipynb\" target=\"_parent\"><img src=\"https://colab.research.google.com/assets/colab-badge.svg\" alt=\"Open In Colab\"/></a>"
      ]
    },
    {
      "cell_type": "code",
      "metadata": {
        "id": "B7mX9PTHxUtK"
      },
      "source": [
        "import random\n",
        "\n",
        "lunch = random.choice([\"된장찌개\",\"치킨\", \"떡볶이\"])\n",
        "lunch = \"냉장고\"\n",
        "\n",
        "dinner = random.choice([\"짬뽕\", \"자장면\", \"돈까스\"])\n",
        "\n",
        "print(lunch)"
      ],
      "execution_count": null,
      "outputs": []
    },
    {
      "cell_type": "markdown",
      "metadata": {
        "id": "Y90XQNc3BbSd"
      },
      "source": [
        "변수에 새로운 것을 담게 되면 이렇게 된다는 거야"
      ]
    },
    {
      "cell_type": "code",
      "metadata": {
        "id": "ZYPDd19o0njq"
      },
      "source": [
        "info = {\"고향\" : \"수원\",\n",
        "        \"취미\" : \"수영\",\n",
        "        \"장래희망\" : \"프로그래머\"\n",
        "        }\n",
        "print(info.get(\"취미\"))\n",
        "\n",
        "info = {\"사는곳\" : \"서울\",\n",
        "        \"특기\" : \"게임\"\n",
        "        }\n",
        "print(info.get(\"특기\"))\n",
        "print(info.get(\"사는곳\"))\n"
      ],
      "execution_count": null,
      "outputs": []
    },
    {
      "cell_type": "code",
      "metadata": {
        "id": "HG3P9z3n0DUB"
      },
      "source": [
        "for x in range(30):\n",
        "    print(x)\n",
        "\n",
        "foods = [\"된장찌개\", \"피자\", \"제육볶음\"]\n",
        "for x in range(3):\n",
        "    print(foods[x])\n",
        "for x in foods:\n",
        "    print(x)\n",
        "information = {\"고향\":\"수원\", \"취미\":\"영화관람\", \"좋아하는 음식\":\"국수\"}\n",
        "for x, y in information.items():\n",
        "    print(x)\n",
        "    print(y)"
      ],
      "execution_count": null,
      "outputs": []
    },
    {
      "cell_type": "markdown",
      "metadata": {
        "id": "lR6O2s5sIi0p"
      },
      "source": [
        "list와 dict의 차이를 보았다.\n",
        "특히, 저기 지금 있는 dict 안에 있는 것들을 출력할때의 모습은 인상적"
      ]
    },
    {
      "cell_type": "code",
      "metadata": {
        "id": "sz8xKIqnJ3xv"
      },
      "source": [
        "foods = [\"된장찌개\", \"피자\", \"제육볶음\"]\n",
        "foods_set1 = set(foods)\n",
        "foods_set2 = set([\"된장찌개\", \"피자\", \"제육볶음\"])\n",
        "print(foods_set1)\n",
        "print(foods_set2)"
      ],
      "execution_count": null,
      "outputs": []
    },
    {
      "cell_type": "markdown",
      "metadata": {
        "id": "If3YCRu7J5nK"
      },
      "source": [
        "여기서 set은 집합을 만드는 거로 쓰인다 \n",
        "집합에서는 동일한 것을 두번 출력하지 않는다\n",
        "그렇게 되면 교집합 합집합을 구하는것에 더 쉽다."
      ]
    },
    {
      "cell_type": "code",
      "metadata": {
        "id": "_Ut3uTHDKrsk"
      },
      "source": [
        "menu1 = set([\"된장찌개\", \"피자\", \"제육볶음\"])\n",
        "menu2 = set([\"된장찌개\", \"떡국\", \"김밥\"])\n",
        "menu3 = menu1 | menu2\n",
        "print(menu3)\n",
        "menu3 = menu1 & menu2\n",
        "print(menu3)\n",
        "menu3 = menu1 - menu2\n",
        "print(menu3)"
      ],
      "execution_count": null,
      "outputs": []
    },
    {
      "cell_type": "code",
      "metadata": {
        "id": "6pOpm2a_MRVX"
      },
      "source": [
        "import random\n",
        "\n",
        "food = random.choice([\"된장찌개\", \"피자\", \"제육볶음\"])\n",
        "print(food)\n",
        "if(food == \"제육볶음\"):\n",
        "    print(\"곱\")\n",
        "else:\n",
        "    print(\"그냥\")"
      ],
      "execution_count": null,
      "outputs": []
    },
    {
      "cell_type": "code",
      "metadata": {
        "id": "5V7sIunAT6yV"
      },
      "source": [
        "lunch = [\"된장찌개\", \"피자\", \"제육볶음\", \"짜장면\"]\n",
        "while True:\n",
        "    item = input(\"음식을 추가해주세요 : \")\n",
        "    if(item != \"q\"):\n",
        "        lunch.append(item)\n",
        "        print(lunch)\n",
        "    else:\n",
        "        break\n",
        "print(lunch)\n",
        "set_lunch = set(lunch)\n",
        "\n",
        "\n",
        "\n"
      ],
      "execution_count": null,
      "outputs": []
    },
    {
      "cell_type": "markdown",
      "metadata": {
        "id": "phkYc4U5gSpk"
      },
      "source": [
        "문자열(str)인 걸 집합으로 바꾸려면\n",
        "먼저 list로 바꾸고\n",
        "그 다음 집합으로 바꿔준다"
      ]
    },
    {
      "cell_type": "code",
      "metadata": {
        "id": "3n3pF8B2gbET"
      },
      "source": [
        "lunch = [\"된장찌개\", \"피자\", \"제육볶음\", \"짜장면\"]\n",
        "item = \"짜장면\"\n",
        "print(set([item]))\n",
        "set_lunch = set(lunch) - set([item])\n",
        "print(set_lunch)"
      ],
      "execution_count": null,
      "outputs": []
    },
    {
      "cell_type": "code",
      "metadata": {
        "id": "Y1Uvbm-RiKz3"
      },
      "source": [
        "import random\n",
        "import time\n",
        "\n",
        "lunch = [\"된장찌개\", \"피자\", \"제육볶음\", \"짜장면\"]\n",
        "while True:\n",
        "    item = input(\"음식을 추가해주세요 : \")\n",
        "    if(item != \"q\"):\n",
        "        lunch.append(item)\n",
        "    else:\n",
        "        break\n",
        "print(lunch)\n",
        "\n",
        "set_lunch = set(lunch)\n",
        "while True:\n",
        "    item = input(\"음식을 삭제해주세요 : \")\n",
        "    if(item != \"q\"):\n",
        "        set_lunch = set(lunch) - set([item])\n",
        "    else:\n",
        "        break\n",
        "\n",
        "print(set_lunch, \"중에서 선택합니다.\")\n",
        "print(\"5\")\n",
        "time.sleep(1)\n",
        "print(\"4\")\n",
        "time.sleep(1)\n",
        "print(\"3\")\n",
        "time.sleep(1)\n",
        "print(\"2\")\n",
        "time.sleep(1)\n",
        "print(\"1\")\n",
        "time.sleep(1)\n",
        "print(list(set_lunch))\n",
        "print(random.choice(list(set_lunch)))"
      ],
      "execution_count": null,
      "outputs": []
    },
    {
      "cell_type": "code",
      "metadata": {
        "id": "ug64HnAy0NJy"
      },
      "source": [
        "total_dict = {}\n",
        "while True:\n",
        "    question = input(\"질문을 입력하세요 : \")\n",
        "    if question == \"q\":\n",
        "        break\n",
        "    else:\n",
        "        total_dict[question] = \"\" \n",
        "print(total_dict)"
      ],
      "execution_count": null,
      "outputs": []
    },
    {
      "cell_type": "markdown",
      "metadata": {
        "id": "qmSpU75529--"
      },
      "source": [
        "total_dict[question] = \"\" 이거는 total_dict이라는 리스트 안에 키는 question으로 값을 \"\" 아무것도 넣지 않고 해주는 걸 의미해"
      ]
    },
    {
      "cell_type": "code",
      "metadata": {
        "id": "kzS_uNH83nt_"
      },
      "source": [
        "total_dict = {}\n",
        "while True:\n",
        "    question = input(\"질문을 입력하세요 : \")\n",
        "    if question == \"q\":\n",
        "        break\n",
        "    else:\n",
        "        total_dict[question] = \"\"\n",
        "for i in  total_dict:\n",
        "    print(i)\n",
        "    answer = input(\"답변을 해주세요 : \")\n",
        "    total_dict[i] = answer\n",
        "print(total_dict)"
      ],
      "execution_count": null,
      "outputs": []
    },
    {
      "cell_type": "code",
      "metadata": {
        "id": "_G7GIhFE4uSZ"
      },
      "source": [
        "total_list = []\n",
        "\n",
        "while True:\n",
        "    question = input(\"질문을 입력하세요 : \")\n",
        "    if question == \"q\":\n",
        "        break\n",
        "    else:\n",
        "       total_list.append({\"질문\" : question, \"답변\" : \"\"})\n",
        "for i in  total_list:\n",
        "    print(i[\"질문\"])\n",
        "    answer = input(\"답변을 해주세요 : \")\n",
        "    i[\"답변\"] = answer\n",
        "print(total_list)"
      ],
      "execution_count": null,
      "outputs": []
    },
    {
      "cell_type": "code",
      "metadata": {
        "id": "ymZ1WlmLC4lu"
      },
      "source": [
        "3*4"
      ],
      "execution_count": null,
      "outputs": []
    },
    {
      "cell_type": "code",
      "metadata": {
        "id": "8LbNMOp6EGNw"
      },
      "source": [
        "2**3"
      ],
      "execution_count": null,
      "outputs": []
    },
    {
      "cell_type": "code",
      "metadata": {
        "id": "oTFfz3y1EIlf"
      },
      "source": [
        "13/3"
      ],
      "execution_count": null,
      "outputs": []
    },
    {
      "cell_type": "code",
      "metadata": {
        "id": "jp28F231EMN4"
      },
      "source": [
        "13//3"
      ],
      "execution_count": null,
      "outputs": []
    },
    {
      "cell_type": "code",
      "metadata": {
        "id": "snG5-pLIEOnt"
      },
      "source": [
        "13%2"
      ],
      "execution_count": null,
      "outputs": []
    },
    {
      "cell_type": "code",
      "metadata": {
        "id": "_9Z_dZ0uFDCk"
      },
      "source": [
        "type('c')"
      ],
      "execution_count": null,
      "outputs": []
    },
    {
      "cell_type": "code",
      "metadata": {
        "id": "lglU_X69GAe3"
      },
      "source": [
        "a = [\"된장찌개\", \"피자\", \"제육볶음\", \"짜장면\"]\n",
        "a[1]\n",
        "a[0:-1]\n",
        "a[-1]\n",
        "a\n",
        "a[3]\n"
      ],
      "execution_count": null,
      "outputs": []
    },
    {
      "cell_type": "code",
      "metadata": {
        "id": "E170ltcqG4ik"
      },
      "source": [
        "tuple_test = (1,2,3,4,5,6)\n",
        "print(tuple_test[2])\n",
        "print(tuple_test[0]) #튜플은 요소 변경 삭제가 불가능하다"
      ],
      "execution_count": null,
      "outputs": []
    },
    {
      "cell_type": "code",
      "metadata": {
        "id": "apcA_WWYHk7H"
      },
      "source": [
        "#range는 앞을 생략하면 0부터 시작한다고  생각해야 한다\n",
        "\n",
        "t = [\"된장찌개\", \"피자\", \"제육볶음\", \"짜장면\"]\n",
        "for i, p in enumerate(t):\n",
        "    print(i, p)\n",
        "\n",
        "while "
      ],
      "execution_count": null,
      "outputs": []
    },
    {
      "cell_type": "code",
      "metadata": {
        "id": "d8CnWdLxLndn"
      },
      "source": [
        "for x in range(2):\n",
        "    print(x)"
      ],
      "execution_count": null,
      "outputs": []
    },
    {
      "cell_type": "code",
      "metadata": {
        "id": "nfPFBgfgO0Ww"
      },
      "source": [
        "def print_hello():\n",
        "    print('Hi')\n",
        "    print(\"I'm sangmin\")\n",
        "print_hello()"
      ],
      "execution_count": null,
      "outputs": []
    },
    {
      "cell_type": "code",
      "metadata": {
        "id": "wepcjQWn-Ays"
      },
      "source": [
        "import json\n",
        "\n",
        "with open('dsa.json') as json_file:\n",
        "    json_data = json.load(json_file)\n",
        "    st_json = json.dumps(json_data, indent=4, sort_keys=True)\n",
        "print(st_json)"
      ],
      "execution_count": null,
      "outputs": []
    },
    {
      "cell_type": "markdown",
      "metadata": {
        "id": "nWEYbymJDMxb"
      },
      "source": [
        "50ee936c7380f8675b6bb4de9a74212e"
      ]
    },
    {
      "cell_type": "code",
      "metadata": {
        "id": "s-AYoNErCYXc"
      },
      "source": [
        "import json\n",
        "import requests\n",
        "import pandas as pd\n",
        "\n",
        "url = \"http://kobis.or.kr/kobisopenapi/webservice/rest/boxoffice/searchDailyBoxOfficeList.json?key=50ee936c7380f8675b6bb4de9a74212e&targetDt=20120101\";\n",
        "\n",
        "res = requests.get(url);\n",
        "\n",
        "text = res.text;\n",
        "\n",
        "t = json.loads(text)\n",
        "\n",
        "#print(json.dumps(t, indent=4, sort_keys=True))\n",
        "# print(t.keys())\n",
        "# print(t['boxOfficeResult']['dailyBoxOfficeList'])\n",
        "\n",
        "movie = []\n",
        "\n",
        "for i in t['boxOfficeResult']['dailyBoxOfficeList']:\n",
        "    movie.append([i['rank'], i['movieNm']])\n",
        "# 배열을 넣어주는 것임으로 이를 생각하고 [] 를 넣어야 한다 \n",
        "data = pd.DataFrame(movie)\n",
        "print(data)"
      ],
      "execution_count": null,
      "outputs": []
    },
    {
      "cell_type": "code",
      "metadata": {
        "id": "Cem2RYLfH0L8"
      },
      "source": [
        ""
      ],
      "execution_count": null,
      "outputs": []
    },
    {
      "cell_type": "code",
      "metadata": {
        "id": "gR5LPa0aBvdd"
      },
      "source": [
        "{\"nbformat\":4,\"nbformat_minor\":0,\"metadata\":{\"colab\":{\"name\":\"첫 번째 과제.ipynb\",\"provenance\":[],\"collapsed_sections\":[]},\"kernelspec\":{\"name\":\"python3\",\"display_name\":\"Python 3\"}},\"cells\":[{\"cell_type\":\"markdown\",\"metadata\":{\"id\":\"wi2iMD5XJf4c\"},\"source\":[\"## **00 과제 제출 예시**\\n\",\"아래와 같이 출력 결과와 동일한 출력을 해주시면 됩니다.\\n\"]},{\"cell_type\":\"code\",\"metadata\":{\"colab\":{\"base_uri\":\"https://localhost:8080/\"},\"id\":\"89XnNf-fJfmK\",\"outputId\":\"cfe76e79-9d4b-41f7-df2f-49e8d16cc649\"},\"source\":[\"# 출력 결과 : 광주 인공지능사관학교\\n\",\"print(\\\"광주 인공지능사관학교\\\")\"],\"execution_count\":null,\"outputs\":[{\"output_type\":\"stream\",\"text\":[\"광주 인공지능사관학교\\n\"],\"name\":\"stdout\"}]},{\"cell_type\":\"markdown\",\"metadata\":{\"id\":\"07to2cpfG8Nh\"},\"source\":[\"## **01 \\\"Hello World!\\\" 출력하기**\\n\",\"Hello World!를 출력해 주세요.\"]},{\"cell_type\":\"code\",\"metadata\":{\"id\":\"ZrZJJwHNG79X\"},\"source\":[\"# 출력 결과 : Hello World!\\n\"],\"execution_count\":null,\"outputs\":[]},{\"cell_type\":\"markdown\",\"metadata\":{\"id\":\"57VL4PzidvGD\"},\"source\":[\"## **02 데이터 타입**\\n\",\"다음 변수 a, 변수 b, 변수 c의 자료형을 한 줄에 출력해 주세요.\"]},{\"cell_type\":\"code\",\"metadata\":{\"id\":\"zjMxPKzxbk6k\"},\"source\":[\"# 주어진 변수(a, b, c) 직접 수정 불가\\n\",\"# 출력 결과 (<class 'str'> <class 'int'> <class 'bool'>)\\n\",\"\\n\",\"a = 'str'\\n\",\"b = 123\\n\",\"c = True\\n\",\"\\n\"],\"execution_count\":null,\"outputs\":[]},{\"cell_type\":\"markdown\",\"metadata\":{\"id\":\"TczAk81deevG\"},\"source\":[\"## **03 사칙연산**\\n\",\"아래 1), 2), 3), 4)를 보시고 한 줄에 출력해 주세요. \\n\",\"\\n\",\"1) a의 b 제곱을 출력하시오.\\n\",\"\\n\",\"2) a를 b로 나눈 나머지를 출력하시오.\\n\",\"\\n\",\"3) a를 b로 나눈 몫을 출력하시오.\\n\",\"\\n\",\"4) a를 b로 나눈 값을 출력하시오.\"]},{\"cell_type\":\"code\",\"metadata\":{\"id\":\"3s9j6oleeRu_\"},\"source\":[\"# 주어진 변수 (a, b) 직접 수정 불가\\n\",\"# 출력 결과 (2401 3 1 1.75)\\n\",\"\\n\",\"a = 7\\n\",\"b = 4\\n\",\"\\n\"],\"execution_count\":null,\"outputs\":[]},{\"cell_type\":\"markdown\",\"metadata\":{\"id\":\"xGKXNV0Jivak\"},\"source\":[\"## **04 평균 구하기**\\n\",\"광주 인공지능사관학교를 다니는 홍길동 씨의 1주차 과목별 점수는 다음과 같다. 주어진 변수를 활용하여 홍길동 씨의 평균 점수를 출력해 주세요.\\n\",\"\\n\",\"- 인공지능을 위한 수학 : 78\\n\",\"- 머신러닝 : 83\\n\",\"- 딥러닝 : 89\\n\",\"- 알고리즘 : 76\"]},{\"cell_type\":\"code\",\"metadata\":{\"id\":\"dcL4t-Rzjlzj\"},\"source\":[\"# 주어진 변수(ai_math, machine_learning, deep_learning, algorithm) 직접 수정 불가\\n\",\"# 출력 결과 (81.75)\\n\",\"ai_math = 79\\n\",\"machine_learning = 83\\n\",\"deep_learning = 89\\n\",\"algorithm = 76\\n\",\"\\n\"],\"execution_count\":null,\"outputs\":[]},{\"cell_type\":\"markdown\",\"metadata\":{\"id\":\"cikxQewBpk62\"},\"source\":[\"## **05 문자열 인덱싱과 슬라이싱**\\n\",\"'Gwang ju'의 'j'와 'ang j'를 인덱싱을 활용하여 한 줄에 출력해 주세요.\\n\",\"\\n\"]},{\"cell_type\":\"code\",\"metadata\":{\"id\":\"dlcwNeOLp21j\"},\"source\":[\"# 주어진 변수 (str_ai) 직접 수정 불가\\n\",\"# 출력 결과 (j ang j)\\n\",\"str_ai = 'Gwang ju'\\n\",\"\\n\"],\"execution_count\":null,\"outputs\":[]},{\"cell_type\":\"markdown\",\"metadata\":{\"id\":\"XP3BJpr3utjj\"},\"source\":[\"## **06 리스트 인덱싱**\\n\",\"아래 list_ai 안의 ['a', 'b', 'c']를 인덱싱을 활용하여 출력해 주세요.\"]},{\"cell_type\":\"code\",\"metadata\":{\"id\":\"WtY_0rtEuzkA\"},\"source\":[\"# 주어진 변수(list_ai) 직접 수정 불가\\n\",\"# 출력 결과 (['a', 'b', 'c'])\\n\",\"\\n\",\"list_ai = [1, 2, 3, ['a', 'b', 'c']]\\n\",\"\\n\"],\"execution_count\":null,\"outputs\":[]},{\"cell_type\":\"markdown\",\"metadata\":{\"id\":\"y5cDbSEkyue1\"},\"source\":[\"## **07 삼중 리스트 인덱싱**\\n\",\"아래 list_ai 안의 문자 'A'와 'I'를 인덱싱과 문자열 더하기를 활용하여 'AI'로 출력해 주세요.\"]},{\"cell_type\":\"code\",\"metadata\":{\"id\":\"nR7gmsoXxsWW\"},\"source\":[\"# 주어진 변수 (list_ai) 직접 수정 불가\\n\",\"# 출력 결과 ('AI')\\n\",\"list_ai = ['C', 'School', ['A', 'Gwang', ['Ju', 'I']]]\\n\",\"\\n\"],\"execution_count\":null,\"outputs\":[]},{\"cell_type\":\"markdown\",\"metadata\":{\"id\":\"MF0SbaG_IoaJ\"},\"source\":[\"## **08 리스트 뒤집기**\\n\",\"아래 list_ai을 내장함수를 사용하여 거꾸로 출력해 주세요.\"]},{\"cell_type\":\"code\",\"metadata\":{\"id\":\"pYjBM0ksIoyR\"},\"source\":[\"# 주어진 변수(list_ai) 직접 수정 불가\\n\",\"# 출력 결과 (['광', '주', '인', '공', '지', '능', '사', '관', '학', '교'])\\n\",\"\\n\",\"list_ai = ['교', '학', '관', '사', '능', '지', '공', '인', '주', '광']\\n\",\"\\n\"],\"execution_count\":null,\"outputs\":[]},{\"cell_type\":\"markdown\",\"metadata\":{\"id\":\"-S1yHJtXNYas\"},\"source\":[\"## **09 문자열 나누기**\\n\",\"아래의 str_ai, str_ai2 변수를 내장함수를 활용하여 ['광주', '인공지능', '사관학교']가 2번 나오도록 출력해 주세요.\"]},{\"cell_type\":\"code\",\"metadata\":{\"id\":\"GbOSFsVNNZHt\"},\"source\":[\"# 주어진 변수(str_ai, str_ai2) 및 print(str_ai, str_ai2)문 직접 수정 불가\\n\",\"# 출력 결과 (['광주', '인공지능', '사관학교'] ['광주', '인공지능', '사관학교'])\\n\",\"\\n\",\"str_ai = '광주 인공지능 사관학교'\\n\",\"str_ai2 = '광주;인공지능;사관학교'\\n\",\"\\n\",\"\\n\",\"print(str_ai, str_ai2)\"],\"execution_count\":null,\"outputs\":[]},{\"cell_type\":\"markdown\",\"metadata\":{\"id\":\"GVOV9JicrUYT\"},\"source\":[\"## **10 문자열 바꾸기**\\n\",\"아래의 str_ai 변수에 할당된 '괌주 인공지능사관학교' 문자열에서 오타인 '괌주'를 내장함수를 활용하여 '광주'로 바꾸어 '광주 인공지능사관학교'로 출력해 주세요.\"]},{\"cell_type\":\"code\",\"metadata\":{\"id\":\"SMmTUOscrU0y\"},\"source\":[\"# 주어진 변수 (str_ai) 및 print(str_ai)문 직접 수정 불가\\n\",\"# 출력 결과 (광주 인공지능사관학교)\\n\",\"\\n\",\"str_ai = '괌주 인공지능사관학교'\\n\",\"\\n\",\"\\n\",\"print(str_ai)\"],\"execution_count\":null,\"outputs\":[]},{\"cell_type\":\"markdown\",\"metadata\":{\"id\":\"DVt0uqWvuNP4\"},\"source\":[\"## **11 리스트 정렬**\\n\",\"광주 인공지능사관학교 학생인 홍길동은 이번 시험 성적이 담긴 리스트 scores를 높은 성적순으로 정렬을 하려고 한다. 내장함수를 활용하여 리스트를 재정렬 후 출력해 주세요.\"]},{\"cell_type\":\"code\",\"metadata\":{\"id\":\"ylhXASgkuNf1\"},\"source\":[\"# 주어진 변수(scores) 및 print(scores) 직접 수정 불가\\n\",\"# 출력 결과 : [89, 83, 78, 76]\\n\",\"\\n\",\"scores = [78, 83, 89, 76]\\n\",\"\\n\",\"\\n\",\"print(scores)\"],\"execution_count\":null,\"outputs\":[]},{\"cell_type\":\"markdown\",\"metadata\":{\"id\":\"NySA07XHxjhy\"},\"source\":[\"## **12 리스트 요소 추가**\\n\",\"아래 리스트list_ai의 마지막 요소로 int_ai를 추가하려고 한다. 내장함수를 활용하여 int_ai가 포함된 list_ai를 출력해 주세요.\"]},{\"cell_type\":\"code\",\"metadata\":{\"id\":\"H8BK3n3ixj1B\"},\"source\":[\"# 주어진 변수(list_ai, int_ai) 및 print(list_ai) 직접 수정 불가\\n\",\"# 출력 결과 : [78, 77, 54, 55, 87, 98]\\n\",\"\\n\",\"list_ai = [78,77,54,55,87]\\n\",\"int_ai = 98\\n\",\"\\n\",\"\\n\",\"print(list_ai)\"],\"execution_count\":null,\"outputs\":[]},{\"cell_type\":\"markdown\",\"metadata\":{\"id\":\"t6XOjv_p-9tU\"},\"source\":[\"## **13 리스트 총 개수(길이)**\\n\",\"아래의 list_ai의 요소 총개수(길이)를 내장함수를 사용하여 출력해 주세요.\"]},{\"cell_type\":\"code\",\"metadata\":{\"id\":\"vCRYBmNp-9_F\"},\"source\":[\"# 주어진 변수(list_ai) 직접 수정 불가\\n\",\"# 출력 결과 : 5\\n\",\"\\n\",\"list_ai = ['인공', '광주', '사관', '학교', '지능']\\n\",\"\\n\"],\"execution_count\":null,\"outputs\":[]},{\"cell_type\":\"markdown\",\"metadata\":{\"id\":\"9zmBNVyZJzr8\"},\"source\":[\"## **14 리스트 요소 위치 반환**\\n\",\"아래의 list_ai의 요소 중 '학교'의 위치를 내장함수를 사용하여 출력해 주세요.\"]},{\"cell_type\":\"code\",\"metadata\":{\"id\":\"tYkP0Y8zJzJU\"},\"source\":[\"# 주어진 변수(list_ai) 직접 수정 불가\\n\",\"# 출력 결과 : 3\\n\",\"\\n\",\"list_ai = ['인공', '광주', '사관', '학교', '지능']\\n\",\"\\n\"],\"execution_count\":null,\"outputs\":[]}]}\n"
      ],
      "execution_count": null,
      "outputs": []
    },
    {
      "cell_type": "code",
      "metadata": {
        "id": "2jzJuFBAPVTI"
      },
      "source": [
        "a, b = input().split()\n",
        "print(b, a)"
      ],
      "execution_count": null,
      "outputs": []
    },
    {
      "cell_type": "code",
      "metadata": {
        "id": "Z2RnqjOVBiFE"
      },
      "source": [
        "y,m,d = input().split('.')\n",
        "print(d,m,y,sep='.')"
      ],
      "execution_count": null,
      "outputs": []
    },
    {
      "cell_type": "code",
      "metadata": {
        "id": "3-yIHrmnE4KG"
      },
      "source": [
        "t1, t2 = input().split('-')\n",
        "print(t1, t2, sep=\"\")"
      ],
      "execution_count": null,
      "outputs": []
    },
    {
      "cell_type": "code",
      "metadata": {
        "id": "P7OT-kvxF7TH"
      },
      "source": [
        "t = input()\n",
        "print(t[0])\n",
        "print(t[1])\n",
        "print(t[2])\n",
        "print(t[3])\n",
        "print(t[4])"
      ],
      "execution_count": null,
      "outputs": []
    }
  ]
}