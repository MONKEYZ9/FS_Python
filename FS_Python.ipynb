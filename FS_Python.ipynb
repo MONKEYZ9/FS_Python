{
  "nbformat": 4,
  "nbformat_minor": 0,
  "metadata": {
    "colab": {
      "name": "FS_Python",
      "private_outputs": true,
      "provenance": [],
      "collapsed_sections": [],
      "authorship_tag": "ABX9TyN4ncJU/F0hfoh0Ao4fUk4b",
      "include_colab_link": true
    },
    "kernelspec": {
      "name": "python3",
      "display_name": "Python 3"
    },
    "language_info": {
      "name": "python"
    }
  },
  "cells": [
    {
      "cell_type": "markdown",
      "metadata": {
        "id": "view-in-github",
        "colab_type": "text"
      },
      "source": [
        "<a href=\"https://colab.research.google.com/github/MONKEYZ9/FS_Python/blob/main/FS_Python.ipynb\" target=\"_parent\"><img src=\"https://colab.research.google.com/assets/colab-badge.svg\" alt=\"Open In Colab\"/></a>"
      ]
    },
    {
      "cell_type": "code",
      "metadata": {
        "id": "B7mX9PTHxUtK"
      },
      "source": [
        "import random\n",
        "\n",
        "lunch = random.choice([\"된장찌개\",\"치킨\", \"떡볶이\"])\n",
        "lunch = \"냉장고\"\n",
        "\n",
        "dinner = random.choice([\"짬뽕\", \"자장면\", \"돈까스\"])\n",
        "\n",
        "print(lunch)"
      ],
      "execution_count": null,
      "outputs": []
    },
    {
      "cell_type": "markdown",
      "metadata": {
        "id": "Y90XQNc3BbSd"
      },
      "source": [
        "변수에 새로운 것을 담게 되면 이렇게 된다는 거야"
      ]
    },
    {
      "cell_type": "code",
      "metadata": {
        "id": "ZYPDd19o0njq"
      },
      "source": [
        "info = {\"고향\" : \"수원\",\n",
        "        \"취미\" : \"수영\",\n",
        "        \"장래희망\" : \"프로그래머\"\n",
        "        }\n",
        "print(info.get(\"취미\"))\n",
        "\n",
        "info = {\"사는곳\" : \"서울\",\n",
        "        \"특기\" : \"게임\"\n",
        "        }\n",
        "print(info.get(\"특기\"))\n",
        "print(info.get(\"사는곳\"))\n"
      ],
      "execution_count": null,
      "outputs": []
    },
    {
      "cell_type": "code",
      "metadata": {
        "id": "HG3P9z3n0DUB"
      },
      "source": [
        "for x in range(30):\n",
        "    print(x)\n",
        "\n",
        "foods = [\"된장찌개\", \"피자\", \"제육볶음\"]\n",
        "for x in range(3):\n",
        "    print(foods[x])\n",
        "for x in foods:\n",
        "    print(x)\n",
        "information = {\"고향\":\"수원\", \"취미\":\"영화관람\", \"좋아하는 음식\":\"국수\"}\n",
        "for x, y in information.items():\n",
        "    print(x)\n",
        "    print(y)"
      ],
      "execution_count": null,
      "outputs": []
    },
    {
      "cell_type": "markdown",
      "metadata": {
        "id": "lR6O2s5sIi0p"
      },
      "source": [
        "list와 dict의 차이를 보았다.\n",
        "특히, 저기 지금 있는 dict 안에 있는 것들을 출력할때의 모습은 인상적"
      ]
    },
    {
      "cell_type": "code",
      "metadata": {
        "id": "sz8xKIqnJ3xv"
      },
      "source": [
        "foods = [\"된장찌개\", \"피자\", \"제육볶음\"]\n",
        "foods_set1 = set(foods)\n",
        "foods_set2 = set([\"된장찌개\", \"피자\", \"제육볶음\"])\n",
        "print(foods_set1)\n",
        "print(foods_set2)"
      ],
      "execution_count": null,
      "outputs": []
    },
    {
      "cell_type": "markdown",
      "metadata": {
        "id": "If3YCRu7J5nK"
      },
      "source": [
        "여기서 set은 집합을 만드는 거로 쓰인다 \n",
        "집합에서는 동일한 것을 두번 출력하지 않는다\n",
        "그렇게 되면 교집합 합집합을 구하는것에 더 쉽다."
      ]
    },
    {
      "cell_type": "code",
      "metadata": {
        "id": "_Ut3uTHDKrsk"
      },
      "source": [
        "menu1 = set([\"된장찌개\", \"피자\", \"제육볶음\"])\n",
        "menu2 = set([\"된장찌개\", \"떡국\", \"김밥\"])\n",
        "menu3 = menu1 | menu2\n",
        "print(menu3)\n",
        "menu3 = menu1 & menu2\n",
        "print(menu3)\n",
        "menu3 = menu1 - menu2\n",
        "print(menu3)"
      ],
      "execution_count": null,
      "outputs": []
    },
    {
      "cell_type": "code",
      "metadata": {
        "id": "6pOpm2a_MRVX"
      },
      "source": [
        "import random\n",
        "\n",
        "food = random.choice([\"된장찌개\", \"피자\", \"제육볶음\"])\n",
        "print(food)\n",
        "if(food == \"제육볶음\"):\n",
        "    print(\"곱\")\n",
        "else:\n",
        "    print(\"그냥\")"
      ],
      "execution_count": null,
      "outputs": []
    },
    {
      "cell_type": "code",
      "metadata": {
        "id": "5V7sIunAT6yV"
      },
      "source": [
        "lunch = [\"된장찌개\", \"피자\", \"제육볶음\", \"짜장면\"]\n",
        "while True:\n",
        "    item = input(\"음식을 추가해주세요 : \")\n",
        "    if(item != \"q\"):\n",
        "        lunch.append(item)\n",
        "        print(lunch)\n",
        "    else:\n",
        "        break\n",
        "print(lunch)\n",
        "set_lunch = set(lunch)\n",
        "\n",
        "\n",
        "\n"
      ],
      "execution_count": null,
      "outputs": []
    },
    {
      "cell_type": "markdown",
      "metadata": {
        "id": "phkYc4U5gSpk"
      },
      "source": [
        "문자열(str)인 걸 집합으로 바꾸려면\n",
        "먼저 list로 바꾸고\n",
        "그 다음 집합으로 바꿔준다"
      ]
    },
    {
      "cell_type": "code",
      "metadata": {
        "id": "3n3pF8B2gbET"
      },
      "source": [
        "lunch = [\"된장찌개\", \"피자\", \"제육볶음\", \"짜장면\"]\n",
        "item = \"짜장면\"\n",
        "print(set([item]))\n",
        "set_lunch = set(lunch) - set([item])\n",
        "print(set_lunch)"
      ],
      "execution_count": null,
      "outputs": []
    },
    {
      "cell_type": "code",
      "metadata": {
        "id": "Y1Uvbm-RiKz3"
      },
      "source": [
        "import random\n",
        "import time\n",
        "\n",
        "lunch = [\"된장찌개\", \"피자\", \"제육볶음\", \"짜장면\"]\n",
        "while True:\n",
        "    item = input(\"음식을 추가해주세요 : \")\n",
        "    if(item != \"q\"):\n",
        "        lunch.append(item)\n",
        "    else:\n",
        "        break\n",
        "print(lunch)\n",
        "\n",
        "set_lunch = set(lunch)\n",
        "while True:\n",
        "    item = input(\"음식을 삭제해주세요 : \")\n",
        "    if(item != \"q\"):\n",
        "        set_lunch = set(lunch) - set([item])\n",
        "    else:\n",
        "        break\n",
        "\n",
        "print(set_lunch, \"중에서 선택합니다.\")\n",
        "print(\"5\")\n",
        "time.sleep(1)\n",
        "print(\"4\")\n",
        "time.sleep(1)\n",
        "print(\"3\")\n",
        "time.sleep(1)\n",
        "print(\"2\")\n",
        "time.sleep(1)\n",
        "print(\"1\")\n",
        "time.sleep(1)\n",
        "print(list(set_lunch))\n",
        "print(random.choice(list(set_lunch)))"
      ],
      "execution_count": null,
      "outputs": []
    },
    {
      "cell_type": "code",
      "metadata": {
        "id": "ug64HnAy0NJy"
      },
      "source": [
        "total_dict = {}\n",
        "while True:\n",
        "    question = input(\"질문을 입력하세요 : \")\n",
        "    if question == \"q\":\n",
        "        break\n",
        "    else:\n",
        "        total_dict[question] = \"\" \n",
        "print(total_dict)"
      ],
      "execution_count": null,
      "outputs": []
    },
    {
      "cell_type": "markdown",
      "metadata": {
        "id": "qmSpU75529--"
      },
      "source": [
        "total_dict[question] = \"\" 이거는 total_dict이라는 리스트 안에 키는 question으로 값을 \"\" 아무것도 넣지 않고 해주는 걸 의미해"
      ]
    },
    {
      "cell_type": "code",
      "metadata": {
        "id": "kzS_uNH83nt_"
      },
      "source": [
        "total_dict = {}\n",
        "while True:\n",
        "    question = input(\"질문을 입력하세요 : \")\n",
        "    if question == \"q\":\n",
        "        break\n",
        "    else:\n",
        "        total_dict[question] = \"\"\n",
        "for i in  total_dict:\n",
        "    print(i)\n",
        "    answer = input(\"답변을 해주세요 : \")\n",
        "    total_dict[i] = answer\n",
        "print(total_dict)"
      ],
      "execution_count": null,
      "outputs": []
    },
    {
      "cell_type": "code",
      "metadata": {
        "id": "_G7GIhFE4uSZ"
      },
      "source": [
        "total_list = []\n",
        "\n",
        "while True:\n",
        "    question = input(\"질문을 입력하세요 : \")\n",
        "    if question == \"q\":\n",
        "        break\n",
        "    else:\n",
        "       total_list.append({\"질문\" : question, \"답변\" : \"\"})\n",
        "for i in  total_list:\n",
        "    print(i[\"질문\"])\n",
        "    answer = input(\"답변을 해주세요 : \")\n",
        "    i[\"답변\"] = answer\n",
        "print(total_list)"
      ],
      "execution_count": null,
      "outputs": []
    },
    {
      "cell_type": "code",
      "metadata": {
        "id": "ymZ1WlmLC4lu"
      },
      "source": [
        "3*4"
      ],
      "execution_count": null,
      "outputs": []
    },
    {
      "cell_type": "code",
      "metadata": {
        "id": "8LbNMOp6EGNw"
      },
      "source": [
        "2**3"
      ],
      "execution_count": null,
      "outputs": []
    },
    {
      "cell_type": "code",
      "metadata": {
        "id": "oTFfz3y1EIlf"
      },
      "source": [
        "13/3"
      ],
      "execution_count": null,
      "outputs": []
    },
    {
      "cell_type": "code",
      "metadata": {
        "id": "jp28F231EMN4"
      },
      "source": [
        "13//3"
      ],
      "execution_count": null,
      "outputs": []
    },
    {
      "cell_type": "code",
      "metadata": {
        "id": "snG5-pLIEOnt"
      },
      "source": [
        "13%2"
      ],
      "execution_count": null,
      "outputs": []
    },
    {
      "cell_type": "code",
      "metadata": {
        "id": "_9Z_dZ0uFDCk"
      },
      "source": [
        "type('c')"
      ],
      "execution_count": null,
      "outputs": []
    },
    {
      "cell_type": "code",
      "metadata": {
        "id": "lglU_X69GAe3"
      },
      "source": [
        "a = [\"된장찌개\", \"피자\", \"제육볶음\", \"짜장면\"]\n",
        "a[1]\n",
        "a[0:-1]\n",
        "a[-1]\n",
        "a\n",
        "a[3]\n"
      ],
      "execution_count": null,
      "outputs": []
    },
    {
      "cell_type": "code",
      "metadata": {
        "id": "E170ltcqG4ik"
      },
      "source": [
        "tuple_test = (1,2,3,4,5,6)\n",
        "print(tuple_test[2])\n",
        "print(tuple_test[0]) #튜플은 요소 변경 삭제가 불가능하다"
      ],
      "execution_count": null,
      "outputs": []
    },
    {
      "cell_type": "code",
      "metadata": {
        "id": "apcA_WWYHk7H"
      },
      "source": [
        "#range는 앞을 생략하면 0부터 시작한다고  생각해야 한다\n",
        "\n",
        "t = [\"된장찌개\", \"피자\", \"제육볶음\", \"짜장면\"]\n",
        "for i, p in enumerate(t):\n",
        "    print(i, p)\n",
        "\n",
        "while "
      ],
      "execution_count": null,
      "outputs": []
    },
    {
      "cell_type": "code",
      "metadata": {
        "id": "d8CnWdLxLndn"
      },
      "source": [
        "for x in range(2):\n",
        "    print(x)"
      ],
      "execution_count": null,
      "outputs": []
    },
    {
      "cell_type": "code",
      "metadata": {
        "id": "nfPFBgfgO0Ww"
      },
      "source": [
        "def print_hello():\n",
        "    print('Hi')\n",
        "    print(\"I'm sangmin\")\n",
        "print_hello()"
      ],
      "execution_count": null,
      "outputs": []
    }
  ]
}